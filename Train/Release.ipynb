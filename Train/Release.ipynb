{
 "cells": [
  {
   "cell_type": "code",
   "execution_count": 10,
   "metadata": {},
   "outputs": [],
   "source": [
    "import os\n",
    "from matplotlib import pyplot as plt\n",
    "import tensorflow as tf \n",
    "import pandas as pd\n",
    "from pathlib import Path\n",
    "import tensorflow_io as tfio\n",
    "import ast\n",
    "from pathlib import Path\n",
    "\n",
    "import numpy as np\n",
    "\n",
    "from tensorflow.keras.models import Sequential\n",
    "from tensorflow.keras.layers import Conv2D, Dense, Flatten, MaxPool2D\n",
    "\n",
    "from sklearn.model_selection import train_test_split"
   ]
  },
  {
   "attachments": {},
   "cell_type": "markdown",
   "metadata": {},
   "source": [
    "**Create Dataset**"
   ]
  },
  {
   "cell_type": "code",
   "execution_count": 11,
   "metadata": {},
   "outputs": [
    {
     "data": {
      "text/plain": [
       "'..\\\\Generator_two\\\\audiodata'"
      ]
     },
     "execution_count": 11,
     "metadata": {},
     "output_type": "execute_result"
    }
   ],
   "source": [
    "SOUND = os.path.join('..', 'Generator', 'audiodata')\n",
    "SOUND"
   ]
  },
  {
   "cell_type": "code",
   "execution_count": 12,
   "metadata": {},
   "outputs": [],
   "source": [
    "import re \n",
    "import glob\n",
    "\n",
    "txtfiles = []\n",
    "for file in glob.glob(SOUND+'\\*.wav'):\n",
    "    txtfiles.append(file)\n",
    "sound = sorted(txtfiles, key=lambda s: int(re.search(r'\\d+', s).group()))\n"
   ]
  },
  {
   "cell_type": "code",
   "execution_count": 13,
   "metadata": {},
   "outputs": [],
   "source": [
    "release = pd.read_csv('../Generator/audiodata/data.csv')['release'].tolist()\n",
    "\n",
    "data = list(zip(sound,release))"
   ]
  },
  {
   "attachments": {},
   "cell_type": "markdown",
   "metadata": {},
   "source": [
    "**Build Preprocessing Function to Convert to RMS**"
   ]
  },
  {
   "cell_type": "code",
   "execution_count": 14,
   "metadata": {},
   "outputs": [],
   "source": [
    "import librosa\n",
    "\n",
    "def preprocess(file_path): \n",
    "    y, _ = librosa.load(file_path)\n",
    "    rms = librosa.feature.rms(y=y)[0]\n",
    "    \n",
    "    return rms"
   ]
  },
  {
   "attachments": {},
   "cell_type": "markdown",
   "metadata": {},
   "source": [
    "**Create Training and Testing Partitions**"
   ]
  },
  {
   "cell_type": "code",
   "execution_count": 15,
   "metadata": {},
   "outputs": [],
   "source": [
    "rms = list()\n",
    "lables = list()\n",
    "\n",
    "for file,lable in data:\n",
    "    rms.append(preprocess(file))\n",
    "    lables.append(lable)\n",
    "\n",
    "rms = np.array(rms)\n",
    "lables = np.array(lables)"
   ]
  },
  {
   "cell_type": "code",
   "execution_count": 16,
   "metadata": {},
   "outputs": [],
   "source": [
    "train_x, test_x, train_y, test_y = train_test_split(rms, lables, test_size=0.3, random_state=10000)"
   ]
  },
  {
   "attachments": {},
   "cell_type": "markdown",
   "metadata": {},
   "source": [
    "**Build Model**"
   ]
  },
  {
   "cell_type": "code",
   "execution_count": 26,
   "metadata": {},
   "outputs": [],
   "source": [
    "model = Sequential()\n",
    "model.add(Dense(128, input_shape=(173,)))\n",
    "model.add(Dense(128, activation='relu'))\n",
    "model.add(Dense(1, activation='linear'))"
   ]
  },
  {
   "cell_type": "code",
   "execution_count": 27,
   "metadata": {},
   "outputs": [],
   "source": [
    "model.compile(optimizer=tf.keras.optimizers.Adam(learning_rate=1e-4), loss='mse', metrics=[tf.keras.metrics.Recall(),tf.keras.metrics.Precision()])"
   ]
  },
  {
   "cell_type": "code",
   "execution_count": 28,
   "metadata": {},
   "outputs": [
    {
     "name": "stdout",
     "output_type": "stream",
     "text": [
      "Model: \"sequential_1\"\n",
      "_________________________________________________________________\n",
      " Layer (type)                Output Shape              Param #   \n",
      "=================================================================\n",
      " dense_3 (Dense)             (None, 128)               22272     \n",
      "                                                                 \n",
      " dense_4 (Dense)             (None, 128)               16512     \n",
      "                                                                 \n",
      " dense_5 (Dense)             (None, 1)                 129       \n",
      "                                                                 \n",
      "=================================================================\n",
      "Total params: 38,913\n",
      "Trainable params: 38,913\n",
      "Non-trainable params: 0\n",
      "_________________________________________________________________\n"
     ]
    }
   ],
   "source": [
    "model.summary() "
   ]
  },
  {
   "attachments": {},
   "cell_type": "markdown",
   "metadata": {},
   "source": [
    "**Train**"
   ]
  },
  {
   "cell_type": "code",
   "execution_count": 29,
   "metadata": {},
   "outputs": [
    {
     "name": "stdout",
     "output_type": "stream",
     "text": [
      "Epoch 1/12\n",
      "438/438 [==============================] - 2s 2ms/step - loss: 0.0858 - recall_1: 0.3622 - precision_1: 0.9996 - val_loss: 0.0731 - val_recall_1: 0.3357 - val_precision_1: 1.0000\n",
      "Epoch 2/12\n",
      "438/438 [==============================] - 1s 2ms/step - loss: 0.0666 - recall_1: 0.3909 - precision_1: 0.9996 - val_loss: 0.0625 - val_recall_1: 0.4023 - val_precision_1: 1.0000\n",
      "Epoch 3/12\n",
      "438/438 [==============================] - 1s 2ms/step - loss: 0.0585 - recall_1: 0.4075 - precision_1: 0.9998 - val_loss: 0.0569 - val_recall_1: 0.4765 - val_precision_1: 1.0000\n",
      "Epoch 4/12\n",
      "438/438 [==============================] - 1s 2ms/step - loss: 0.0526 - recall_1: 0.4223 - precision_1: 0.9998 - val_loss: 0.0508 - val_recall_1: 0.4498 - val_precision_1: 1.0000\n",
      "Epoch 5/12\n",
      "438/438 [==============================] - 1s 2ms/step - loss: 0.0466 - recall_1: 0.4347 - precision_1: 1.0000 - val_loss: 0.0449 - val_recall_1: 0.4372 - val_precision_1: 1.0000\n",
      "Epoch 6/12\n",
      "438/438 [==============================] - 1s 2ms/step - loss: 0.0413 - recall_1: 0.4450 - precision_1: 1.0000 - val_loss: 0.0392 - val_recall_1: 0.4325 - val_precision_1: 1.0000\n",
      "Epoch 7/12\n",
      "438/438 [==============================] - 1s 2ms/step - loss: 0.0358 - recall_1: 0.4498 - precision_1: 1.0000 - val_loss: 0.0344 - val_recall_1: 0.4468 - val_precision_1: 1.0000\n",
      "Epoch 8/12\n",
      "438/438 [==============================] - 1s 2ms/step - loss: 0.0312 - recall_1: 0.4578 - precision_1: 1.0000 - val_loss: 0.0302 - val_recall_1: 0.4340 - val_precision_1: 1.0000\n",
      "Epoch 9/12\n",
      "438/438 [==============================] - 1s 2ms/step - loss: 0.0275 - recall_1: 0.4624 - precision_1: 1.0000 - val_loss: 0.0271 - val_recall_1: 0.4535 - val_precision_1: 1.0000\n",
      "Epoch 10/12\n",
      "438/438 [==============================] - 1s 2ms/step - loss: 0.0247 - recall_1: 0.4638 - precision_1: 1.0000 - val_loss: 0.0238 - val_recall_1: 0.4657 - val_precision_1: 1.0000\n",
      "Epoch 11/12\n",
      "438/438 [==============================] - 1s 2ms/step - loss: 0.0223 - recall_1: 0.4672 - precision_1: 1.0000 - val_loss: 0.0219 - val_recall_1: 0.4387 - val_precision_1: 1.0000\n",
      "Epoch 12/12\n",
      "438/438 [==============================] - 1s 2ms/step - loss: 0.0206 - recall_1: 0.4676 - precision_1: 1.0000 - val_loss: 0.0203 - val_recall_1: 0.4870 - val_precision_1: 1.0000\n"
     ]
    }
   ],
   "source": [
    "hist = model.fit(train_x, train_y, epochs=12, validation_data=(test_x,test_y))"
   ]
  },
  {
   "cell_type": "code",
   "execution_count": 30,
   "metadata": {},
   "outputs": [
    {
     "data": {
      "image/png": "[encoded data removed]",
      "text/plain": [
       "<Figure size 640x480 with 1 Axes>"
      ]
     },
     "metadata": {},
     "output_type": "display_data"
    }
   ],
   "source": [
    "plt.title('Loss')\n",
    "plt.plot(hist.history['loss'], 'r')\n",
    "plt.plot(hist.history['val_loss'], 'b')\n",
    "plt.show()"
   ]
  },
  {
   "attachments": {},
   "cell_type": "markdown",
   "metadata": {},
   "source": [
    "**Test Model with a Single Clip**"
   ]
  },
  {
   "cell_type": "code",
   "execution_count": 34,
   "metadata": {},
   "outputs": [
    {
     "data": {
      "text/plain": [
       "array([0.748, 0.766, 0.145, ..., 0.359, 0.591, 0.554])"
      ]
     },
     "execution_count": 34,
     "metadata": {},
     "output_type": "execute_result"
    }
   ],
   "source": [
    "\n",
    "test_y"
   ]
  },
  {
   "cell_type": "code",
   "execution_count": 38,
   "metadata": {},
   "outputs": [
    {
     "name": "stdout",
     "output_type": "stream",
     "text": [
      "188/188 [==============================] - 0s 930us/step\n"
     ]
    },
    {
     "data": {
      "text/plain": [
       "array([[0.7792564],\n",
       "       [0.7755162],\n",
       "       [0.1518051],\n",
       "       ...,\n",
       "       [0.3624304],\n",
       "       [0.5632733],\n",
       "       [0.5218274]], dtype=float32)"
      ]
     },
     "execution_count": 38,
     "metadata": {},
     "output_type": "execute_result"
    }
   ],
   "source": [
    "yhat = model.predict(test_x)\n",
    "yhat"
   ]
  },
  {
   "cell_type": "code",
   "execution_count": 39,
   "metadata": {},
   "outputs": [
    {
     "name": "stdout",
     "output_type": "stream",
     "text": [
      "188/188 [==============================] - 0s 1ms/step - loss: 0.0203 - recall_1: 0.4870 - precision_1: 1.0000\n",
      "Test loss: 0.02026952989399433\n",
      "Test accuracy: 0.4869999885559082\n"
     ]
    }
   ],
   "source": [
    "score = model.evaluate(test_x,test_y)\n",
    "print('Test loss:', score[0])\n",
    "print('Test accuracy:', score[1])"
   ]
  }
 ],
 "metadata": {
  "kernelspec": {
   "display_name": "project",
   "language": "python",
   "name": "python3"
  },
  "language_info": {
   "codemirror_mode": {
    "name": "ipython",
    "version": 3
   },
   "file_extension": ".py",
   "mimetype": "text/x-python",
   "name": "python",
   "nbconvert_exporter": "python",
   "pygments_lexer": "ipython3",
   "version": "3.9.15"
  },
  "orig_nbformat": 4,
  "vscode": {
   "interpreter": {
    "hash": "79a67186b754953f17d820f9a539417180439ff73895987e8089009131edb50d"
   }
  }
 },
 "nbformat": 4,
 "nbformat_minor": 2
}
