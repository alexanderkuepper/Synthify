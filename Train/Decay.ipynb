{
 "cells": [
  {
   "cell_type": "code",
   "execution_count": 1,
   "metadata": {},
   "outputs": [],
   "source": [
    "import os\n",
    "from matplotlib import pyplot as plt\n",
    "import tensorflow as tf \n",
    "import pandas as pd\n",
    "from pathlib import Path\n",
    "import tensorflow_io as tfio\n",
    "import ast\n",
    "from pathlib import Path\n",
    "\n",
    "import numpy as np\n",
    "\n",
    "from tensorflow.keras.models import Sequential\n",
    "from tensorflow.keras.layers import Conv2D, Dense, Flatten, MaxPool2D\n",
    "\n",
    "from sklearn.model_selection import train_test_split"
   ]
  },
  {
   "attachments": {},
   "cell_type": "markdown",
   "metadata": {},
   "source": [
    "**Create Dataset**"
   ]
  },
  {
   "cell_type": "code",
   "execution_count": 2,
   "metadata": {},
   "outputs": [
    {
     "data": {
      "text/plain": [
       "'..\\\\Generator\\\\audiodata'"
      ]
     },
     "execution_count": 2,
     "metadata": {},
     "output_type": "execute_result"
    }
   ],
   "source": [
    "SOUND = os.path.join('..', 'Generator', 'audiodata')\n",
    "SOUND"
   ]
  },
  {
   "cell_type": "code",
   "execution_count": 3,
   "metadata": {},
   "outputs": [],
   "source": [
    "import re \n",
    "import glob\n",
    "\n",
    "txtfiles = []\n",
    "for file in glob.glob(SOUND+'\\*.wav'):\n",
    "    txtfiles.append(file)\n",
    "sound = sorted(txtfiles, key=lambda s: int(re.search(r'\\d+', s).group()))\n"
   ]
  },
  {
   "cell_type": "code",
   "execution_count": 4,
   "metadata": {},
   "outputs": [],
   "source": [
    "decay = pd.read_csv('../Generator/audiodata/data.csv')['decay'].tolist()\n",
    "\n",
    "data = list(zip(sound,decay))"
   ]
  },
  {
   "attachments": {},
   "cell_type": "markdown",
   "metadata": {},
   "source": [
    "**Build Preprocessing Function to Convert to RMS**"
   ]
  },
  {
   "cell_type": "code",
   "execution_count": 5,
   "metadata": {},
   "outputs": [],
   "source": [
    "import librosa\n",
    "\n",
    "def preprocess(file_path): \n",
    "    y, _ = librosa.load(file_path)\n",
    "    rms = librosa.feature.rms(y=y)[0]\n",
    "    \n",
    "    return rms"
   ]
  },
  {
   "attachments": {},
   "cell_type": "markdown",
   "metadata": {},
   "source": [
    "**Create Training and Testing Partitions**"
   ]
  },
  {
   "cell_type": "code",
   "execution_count": 6,
   "metadata": {},
   "outputs": [],
   "source": [
    "rms = list()\n",
    "lables = list()\n",
    "\n",
    "for file,lable in data:\n",
    "    rms.append(preprocess(file))\n",
    "    lables.append(lable)\n",
    "\n",
    "rms = np.array(rms)\n",
    "lables = np.array(lables)"
   ]
  },
  {
   "cell_type": "code",
   "execution_count": 7,
   "metadata": {},
   "outputs": [],
   "source": [
    "train_x, test_x, train_y, test_y = train_test_split(rms, lables, test_size=0.3, random_state=10000)"
   ]
  },
  {
   "attachments": {},
   "cell_type": "markdown",
   "metadata": {},
   "source": [
    "**Build Model**"
   ]
  },
  {
   "cell_type": "code",
   "execution_count": 8,
   "metadata": {},
   "outputs": [],
   "source": [
    "model = Sequential()\n",
    "model.add(Dense(128, input_shape=(173,)))\n",
    "model.add(Dense(128, activation='relu'))\n",
    "model.add(Dense(1, activation='linear'))"
   ]
  },
  {
   "cell_type": "code",
   "execution_count": 9,
   "metadata": {},
   "outputs": [],
   "source": [
    "model.compile(optimizer=tf.keras.optimizers.Adam(learning_rate=1e-4), loss='mse', metrics=[tf.keras.metrics.Recall(),tf.keras.metrics.Precision()])"
   ]
  },
  {
   "cell_type": "code",
   "execution_count": 10,
   "metadata": {},
   "outputs": [
    {
     "name": "stdout",
     "output_type": "stream",
     "text": [
      "Model: \"sequential\"\n",
      "_________________________________________________________________\n",
      " Layer (type)                Output Shape              Param #   \n",
      "=================================================================\n",
      " dense (Dense)               (None, 128)               22272     \n",
      "                                                                 \n",
      " dense_1 (Dense)             (None, 128)               16512     \n",
      "                                                                 \n",
      " dense_2 (Dense)             (None, 1)                 129       \n",
      "                                                                 \n",
      "=================================================================\n",
      "Total params: 38,913\n",
      "Trainable params: 38,913\n",
      "Non-trainable params: 0\n",
      "_________________________________________________________________\n"
     ]
    }
   ],
   "source": [
    "model.summary() "
   ]
  },
  {
   "attachments": {},
   "cell_type": "markdown",
   "metadata": {},
   "source": [
    "**Train**"
   ]
  },
  {
   "cell_type": "code",
   "execution_count": 11,
   "metadata": {},
   "outputs": [
    {
     "name": "stdout",
     "output_type": "stream",
     "text": [
      "Epoch 1/12\n",
      "219/219 [==============================] - 1s 3ms/step - loss: 0.0833 - recall: 0.3700 - precision: 0.9988 - val_loss: 0.0706 - val_recall: 0.3872 - val_precision: 0.9991\n",
      "Epoch 2/12\n",
      "219/219 [==============================] - 0s 2ms/step - loss: 0.0681 - recall: 0.3813 - precision: 1.0000 - val_loss: 0.0656 - val_recall: 0.5323 - val_precision: 0.9987\n",
      "Epoch 3/12\n",
      "219/219 [==============================] - 0s 2ms/step - loss: 0.0619 - recall: 0.4014 - precision: 0.9993 - val_loss: 0.0590 - val_recall: 0.4159 - val_precision: 0.9992\n",
      "Epoch 4/12\n",
      "219/219 [==============================] - 0s 2ms/step - loss: 0.0586 - recall: 0.4222 - precision: 0.9990 - val_loss: 0.0567 - val_recall: 0.3888 - val_precision: 0.9991\n",
      "Epoch 5/12\n",
      "219/219 [==============================] - 0s 2ms/step - loss: 0.0561 - recall: 0.4328 - precision: 0.9993 - val_loss: 0.0550 - val_recall: 0.4390 - val_precision: 0.9985\n",
      "Epoch 6/12\n",
      "219/219 [==============================] - 0s 2ms/step - loss: 0.0544 - recall: 0.4516 - precision: 0.9994 - val_loss: 0.0532 - val_recall: 0.4109 - val_precision: 0.9992\n",
      "Epoch 7/12\n",
      "219/219 [==============================] - 0s 2ms/step - loss: 0.0527 - recall: 0.4575 - precision: 0.9994 - val_loss: 0.0510 - val_recall: 0.5135 - val_precision: 0.9974\n",
      "Epoch 8/12\n",
      "219/219 [==============================] - 0s 2ms/step - loss: 0.0505 - recall: 0.4655 - precision: 0.9991 - val_loss: 0.0495 - val_recall: 0.5162 - val_precision: 0.9981\n",
      "Epoch 9/12\n",
      "219/219 [==============================] - 0s 2ms/step - loss: 0.0492 - recall: 0.4704 - precision: 0.9994 - val_loss: 0.0487 - val_recall: 0.5503 - val_precision: 0.9982\n",
      "Epoch 10/12\n",
      "219/219 [==============================] - 0s 2ms/step - loss: 0.0478 - recall: 0.4781 - precision: 0.9994 - val_loss: 0.0473 - val_recall: 0.5593 - val_precision: 0.9982\n",
      "Epoch 11/12\n",
      "219/219 [==============================] - 0s 2ms/step - loss: 0.0462 - recall: 0.4774 - precision: 0.9994 - val_loss: 0.0458 - val_recall: 0.4774 - val_precision: 0.9986\n",
      "Epoch 12/12\n",
      "219/219 [==============================] - 0s 2ms/step - loss: 0.0451 - recall: 0.4830 - precision: 0.9994 - val_loss: 0.0453 - val_recall: 0.5634 - val_precision: 0.9982\n"
     ]
    }
   ],
   "source": [
    "hist = model.fit(train_x, train_y, epochs=12, validation_data=(test_x,test_y))"
   ]
  },
  {
   "cell_type": "code",
   "execution_count": 12,
   "metadata": {},
   "outputs": [
    {
     "data": {
      "image/png": "[encoded data removed]",
      "text/plain": [
       "<Figure size 640x480 with 1 Axes>"
      ]
     },
     "metadata": {},
     "output_type": "display_data"
    }
   ],
   "source": [
    "plt.title('Loss')\n",
    "plt.plot(hist.history['loss'], 'r')\n",
    "plt.plot(hist.history['val_loss'], 'b')\n",
    "plt.show()"
   ]
  },
  {
   "attachments": {},
   "cell_type": "markdown",
   "metadata": {},
   "source": [
    "**Test Model with a Single Clip**"
   ]
  },
  {
   "cell_type": "code",
   "execution_count": 13,
   "metadata": {},
   "outputs": [
    {
     "data": {
      "text/plain": [
       "array([0.88, 0.65, 0.02, ..., 0.41, 0.18, 0.03])"
      ]
     },
     "execution_count": 13,
     "metadata": {},
     "output_type": "execute_result"
    }
   ],
   "source": [
    "\n",
    "test_y"
   ]
  },
  {
   "cell_type": "code",
   "execution_count": 14,
   "metadata": {},
   "outputs": [
    {
     "name": "stdout",
     "output_type": "stream",
     "text": [
      "94/94 [==============================] - 0s 1ms/step\n"
     ]
    },
    {
     "data": {
      "text/plain": [
       "array([[0.6158496 ],\n",
       "       [0.82419264],\n",
       "       [0.33740354],\n",
       "       ...,\n",
       "       [0.40105787],\n",
       "       [0.14124686],\n",
       "       [0.37946972]], dtype=float32)"
      ]
     },
     "execution_count": 14,
     "metadata": {},
     "output_type": "execute_result"
    }
   ],
   "source": [
    "yhat = model.predict(test_x)\n",
    "yhat"
   ]
  },
  {
   "cell_type": "code",
   "execution_count": 15,
   "metadata": {},
   "outputs": [
    {
     "name": "stdout",
     "output_type": "stream",
     "text": [
      "94/94 [==============================] - 0s 1ms/step - loss: 0.0453 - recall: 0.5634 - precision: 0.9982\n",
      "Test loss: 0.04531381279230118\n",
      "Test accuracy: 0.5633567571640015\n"
     ]
    }
   ],
   "source": [
    "score = model.evaluate(test_x,test_y)\n",
    "print('Test loss:', score[0])\n",
    "print('Test accuracy:', score[1])"
   ]
  },
  {
   "cell_type": "code",
   "execution_count": 16,
   "metadata": {},
   "outputs": [],
   "source": [
    "model_json = model.to_json()\n",
    "with open(\"decay.json\", \"w\") as json_file:\n",
    "    json_file.write(model_json)\n",
    "model.save_weights(\"decay.h5\")"
   ]
  }
 ],
 "metadata": {
  "kernelspec": {
   "display_name": "project",
   "language": "python",
   "name": "python3"
  },
  "language_info": {
   "codemirror_mode": {
    "name": "ipython",
    "version": 3
   },
   "file_extension": ".py",
   "mimetype": "text/x-python",
   "name": "python",
   "nbconvert_exporter": "python",
   "pygments_lexer": "ipython3",
   "version": "3.9.15"
  },
  "orig_nbformat": 4,
  "vscode": {
   "interpreter": {
    "hash": "79a67186b754953f17d820f9a539417180439ff73895987e8089009131edb50d"
   }
  }
 },
 "nbformat": 4,
 "nbformat_minor": 2
}
