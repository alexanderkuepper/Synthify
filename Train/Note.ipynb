{
 "cells": [
  {
   "cell_type": "code",
   "execution_count": 1,
   "metadata": {},
   "outputs": [],
   "source": [
    "from sklearn.preprocessing import MultiLabelBinarizer\n",
    "import ast \n",
    "\n",
    "import os\n",
    "from matplotlib import pyplot as plt\n",
    "import tensorflow as tf \n",
    "import pandas as pd\n",
    "from pathlib import Path\n",
    "import tensorflow_io as tfio\n",
    "import ast\n",
    "from pathlib import Path\n",
    "\n",
    "from tensorflow.keras.models import Sequential\n",
    "from tensorflow.keras.layers import Conv2D, Dense, Flatten, MaxPool2D\n"
   ]
  },
  {
   "attachments": {},
   "cell_type": "markdown",
   "metadata": {},
   "source": [
    "**Build Data Loading Function**"
   ]
  },
  {
   "cell_type": "code",
   "execution_count": 2,
   "metadata": {},
   "outputs": [],
   "source": [
    "def load_wav_16k_mono(filename):\n",
    "    # Load encoded wav file\n",
    "    file_contents = tf.io.read_file(filename)\n",
    "    # Decode wav (tensors by channels) \n",
    "    wav, sample_rate = tf.audio.decode_wav(file_contents, desired_channels=1)\n",
    "    # Removes trailing axis\n",
    "    wav = tf.squeeze(wav, axis=-1)\n",
    "    sample_rate = tf.cast(sample_rate, dtype=tf.int64)\n",
    "    # Goes from 44100Hz to 16000hz - amplitude of the audio signal\n",
    "    wav = tfio.audio.resample(wav, rate_in=sample_rate, rate_out=16000)\n",
    "    return wav"
   ]
  },
  {
   "attachments": {},
   "cell_type": "markdown",
   "metadata": {},
   "source": [
    "**Create Tensorflow Dataset**"
   ]
  },
  {
   "cell_type": "code",
   "execution_count": 3,
   "metadata": {},
   "outputs": [
    {
     "data": {
      "text/plain": [
       "'..\\\\Generator_two\\\\audiodata'"
      ]
     },
     "execution_count": 3,
     "metadata": {},
     "output_type": "execute_result"
    }
   ],
   "source": [
    "SOUND = os.path.join('..', 'Generator', 'audiodata')\n",
    "SOUND"
   ]
  },
  {
   "cell_type": "code",
   "execution_count": 4,
   "metadata": {},
   "outputs": [],
   "source": [
    "import glob\n",
    "import re\n",
    "\n",
    "txtfiles = []\n",
    "for file in glob.glob(SOUND+\"\\*.wav\"):\n",
    "    txtfiles.append(file)\n",
    "txtfiles\n",
    "sound = sorted(txtfiles, key=lambda s: int(re.search(r'\\d+', s).group()))"
   ]
  },
  {
   "cell_type": "code",
   "execution_count": 5,
   "metadata": {},
   "outputs": [],
   "source": [
    "values = pd.read_csv('../Generator/audiodata/data.csv')['note'].tolist()\n",
    "osc = list()\n",
    "for value in values:\n",
    "    if value == 'a':\n",
    "        osc.append(tf.one_hot(0,7))\n",
    "    if value == 'b':\n",
    "        osc.append(tf.one_hot(1,7))\n",
    "    if value == 'c':\n",
    "        osc.append(tf.one_hot(2,7))\n",
    "    if value == 'd':\n",
    "        osc.append(tf.one_hot(3,7))\n",
    "    if value == 'e':\n",
    "        osc.append(tf.one_hot(4,7))\n",
    "    if value == 'f':\n",
    "        osc.append(tf.one_hot(5,7))\n",
    "    if value == 'g':\n",
    "        osc.append(tf.one_hot(6,7))\n",
    "\n",
    "\n",
    "data = tf.data.Dataset.zip((tf.data.Dataset.from_tensor_slices(sound), tf.data.Dataset.from_tensor_slices(osc)))"
   ]
  },
  {
   "attachments": {},
   "cell_type": "markdown",
   "metadata": {},
   "source": [
    "**Build Preprocessing Function to Convert to Spectrogram**"
   ]
  },
  {
   "cell_type": "code",
   "execution_count": 6,
   "metadata": {},
   "outputs": [],
   "source": [
    "def preprocess(file_path, label): \n",
    "    wav = load_wav_16k_mono(file_path)\n",
    "    wav = wav[:63901] \n",
    "    zero_padding = tf.zeros([63901] - tf.shape(wav), dtype=tf.float32)\n",
    "    wav = tf.concat([zero_padding, wav],0)\n",
    "    spectrogram = tf.signal.stft(wav, frame_length=320, frame_step=128)\n",
    "    spectrogram = tf.abs(spectrogram)\n",
    "    spectrogram = tf.expand_dims(spectrogram, axis=2)\n",
    "    \n",
    "    return spectrogram, label"
   ]
  },
  {
   "attachments": {},
   "cell_type": "markdown",
   "metadata": {},
   "source": [
    "**Create Training and Testing Partitions**"
   ]
  },
  {
   "cell_type": "code",
   "execution_count": 7,
   "metadata": {},
   "outputs": [
    {
     "name": "stdout",
     "output_type": "stream",
     "text": [
      "WARNING:tensorflow:Using a while_loop for converting IO>AudioResample\n"
     ]
    }
   ],
   "source": [
    "data = data.map(preprocess)\n",
    "data = data.cache()\n",
    "data = data.shuffle(buffer_size=1000)\n",
    "data = data.batch(16)\n",
    "data = data.prefetch(8)"
   ]
  },
  {
   "cell_type": "code",
   "execution_count": 8,
   "metadata": {},
   "outputs": [],
   "source": [
    "train = data.take(875)\n",
    "test = data.skip(875).take(375)"
   ]
  },
  {
   "attachments": {},
   "cell_type": "markdown",
   "metadata": {},
   "source": [
    "**Build Model**"
   ]
  },
  {
   "cell_type": "code",
   "execution_count": 9,
   "metadata": {},
   "outputs": [],
   "source": [
    "model = Sequential()\n",
    "model.add(Conv2D(32, (3,3), activation='relu', input_shape=(497, 257,1)))\n",
    "model.add(Conv2D(32, (3,3), activation='relu'))\n",
    "model.add(MaxPool2D())\n",
    "model.add(Conv2D(64, (3,3), activation='relu'))\n",
    "model.add(Conv2D(64, (3,3), activation='relu'))\n",
    "model.add(MaxPool2D())\n",
    "model.add(Conv2D(64, (3,3), activation='relu'))\n",
    "model.add(Conv2D(64, (3,3), activation='relu'))\n",
    "model.add(MaxPool2D())\n",
    "model.add(Flatten())\n",
    "model.add(Dense(128, activation='relu'))\n",
    "model.add(Dense(7, activation='softmax'))"
   ]
  },
  {
   "cell_type": "code",
   "execution_count": 10,
   "metadata": {},
   "outputs": [],
   "source": [
    "model.compile(optimizer=tf.keras.optimizers.Adam(learning_rate=1e-3), loss='categorical_crossentropy', metrics=[tf.keras.metrics.Recall(),tf.keras.metrics.Precision()])"
   ]
  },
  {
   "cell_type": "code",
   "execution_count": 11,
   "metadata": {},
   "outputs": [
    {
     "name": "stdout",
     "output_type": "stream",
     "text": [
      "Model: \"sequential\"\n",
      "_________________________________________________________________\n",
      " Layer (type)                Output Shape              Param #   \n",
      "=================================================================\n",
      " conv2d (Conv2D)             (None, 495, 255, 32)      320       \n",
      "                                                                 \n",
      " conv2d_1 (Conv2D)           (None, 493, 253, 32)      9248      \n",
      "                                                                 \n",
      " max_pooling2d (MaxPooling2D  (None, 246, 126, 32)     0         \n",
      " )                                                               \n",
      "                                                                 \n",
      " conv2d_2 (Conv2D)           (None, 244, 124, 64)      18496     \n",
      "                                                                 \n",
      " conv2d_3 (Conv2D)           (None, 242, 122, 64)      36928     \n",
      "                                                                 \n",
      " max_pooling2d_1 (MaxPooling  (None, 121, 61, 64)      0         \n",
      " 2D)                                                             \n",
      "                                                                 \n",
      " conv2d_4 (Conv2D)           (None, 119, 59, 64)       36928     \n",
      "                                                                 \n",
      " conv2d_5 (Conv2D)           (None, 117, 57, 64)       36928     \n",
      "                                                                 \n",
      " max_pooling2d_2 (MaxPooling  (None, 58, 28, 64)       0         \n",
      " 2D)                                                             \n",
      "                                                                 \n",
      " flatten (Flatten)           (None, 103936)            0         \n",
      "                                                                 \n",
      " dense (Dense)               (None, 128)               13303936  \n",
      "                                                                 \n",
      " dense_1 (Dense)             (None, 7)                 903       \n",
      "                                                                 \n",
      "=================================================================\n",
      "Total params: 13,443,687\n",
      "Trainable params: 13,443,687\n",
      "Non-trainable params: 0\n",
      "_________________________________________________________________\n"
     ]
    }
   ],
   "source": [
    "model.summary() "
   ]
  },
  {
   "attachments": {},
   "cell_type": "markdown",
   "metadata": {},
   "source": [
    "**Train**"
   ]
  },
  {
   "cell_type": "code",
   "execution_count": 12,
   "metadata": {},
   "outputs": [
    {
     "name": "stdout",
     "output_type": "stream",
     "text": [
      "Epoch 1/4\n",
      "875/875 [==============================] - 3218s 4s/step - loss: 0.0482 - recall: 0.9781 - precision: 0.9948 - val_loss: 8.5690e-05 - val_recall: 1.0000 - val_precision: 1.0000\n",
      "Epoch 2/4\n",
      "875/875 [==============================] - 4127s 5s/step - loss: 5.8919e-05 - recall: 1.0000 - precision: 1.0000 - val_loss: 3.4041e-05 - val_recall: 1.0000 - val_precision: 1.0000\n",
      "Epoch 3/4\n",
      "875/875 [==============================] - 3836s 4s/step - loss: 9.2985e-06 - recall: 1.0000 - precision: 1.0000 - val_loss: 8.1051e-05 - val_recall: 1.0000 - val_precision: 1.0000\n",
      "Epoch 4/4\n",
      "875/875 [==============================] - 3867s 4s/step - loss: 0.1489 - recall: 0.9784 - precision: 0.9885 - val_loss: 2.3607e-04 - val_recall: 1.0000 - val_precision: 1.0000\n"
     ]
    }
   ],
   "source": [
    "hist = model.fit(train, epochs=4, validation_data=test)"
   ]
  },
  {
   "cell_type": "code",
   "execution_count": 13,
   "metadata": {},
   "outputs": [
    {
     "data": {
      "image/png": "[encoded data removed]",
      "text/plain": [
       "<Figure size 432x288 with 1 Axes>"
      ]
     },
     "metadata": {
      "needs_background": "light"
     },
     "output_type": "display_data"
    }
   ],
   "source": [
    "plt.title('Loss')\n",
    "plt.plot(hist.history['loss'], 'r')\n",
    "plt.plot(hist.history['val_loss'], 'b')\n",
    "plt.show()"
   ]
  },
  {
   "attachments": {},
   "cell_type": "markdown",
   "metadata": {},
   "source": [
    "**Test Model with a Single Clip**"
   ]
  },
  {
   "cell_type": "code",
   "execution_count": 14,
   "metadata": {},
   "outputs": [
    {
     "data": {
      "text/plain": [
       "array([[0., 0., 0., 0., 0., 0., 1.],\n",
       "       [0., 0., 0., 0., 0., 0., 1.],\n",
       "       [1., 0., 0., 0., 0., 0., 0.],\n",
       "       [0., 0., 0., 0., 0., 0., 1.],\n",
       "       [0., 0., 0., 0., 0., 0., 1.],\n",
       "       [0., 0., 0., 0., 1., 0., 0.],\n",
       "       [0., 0., 1., 0., 0., 0., 0.],\n",
       "       [0., 0., 0., 0., 1., 0., 0.],\n",
       "       [1., 0., 0., 0., 0., 0., 0.],\n",
       "       [0., 0., 1., 0., 0., 0., 0.],\n",
       "       [0., 0., 0., 0., 0., 1., 0.],\n",
       "       [0., 0., 0., 1., 0., 0., 0.],\n",
       "       [0., 0., 0., 0., 0., 0., 1.],\n",
       "       [0., 0., 0., 0., 1., 0., 0.],\n",
       "       [0., 0., 0., 0., 1., 0., 0.],\n",
       "       [0., 1., 0., 0., 0., 0., 0.]], dtype=float32)"
      ]
     },
     "execution_count": 14,
     "metadata": {},
     "output_type": "execute_result"
    }
   ],
   "source": [
    "X_test, y_test = test.as_numpy_iterator().next()\n",
    "y_test"
   ]
  },
  {
   "cell_type": "code",
   "execution_count": 15,
   "metadata": {},
   "outputs": [
    {
     "data": {
      "text/plain": [
       "array([[0.0000000e+00, 0.0000000e+00, 0.0000000e+00, 0.0000000e+00,\n",
       "        0.0000000e+00, 0.0000000e+00, 1.0000000e+00],\n",
       "       [2.2929894e-16, 0.0000000e+00, 0.0000000e+00, 0.0000000e+00,\n",
       "        0.0000000e+00, 0.0000000e+00, 1.0000000e+00],\n",
       "       [1.0000000e+00, 0.0000000e+00, 0.0000000e+00, 0.0000000e+00,\n",
       "        0.0000000e+00, 0.0000000e+00, 0.0000000e+00],\n",
       "       [1.3443627e-25, 0.0000000e+00, 0.0000000e+00, 0.0000000e+00,\n",
       "        0.0000000e+00, 0.0000000e+00, 1.0000000e+00],\n",
       "       [7.0853206e-26, 0.0000000e+00, 8.4164592e-35, 0.0000000e+00,\n",
       "        0.0000000e+00, 3.4333074e-38, 1.0000000e+00],\n",
       "       [1.1427805e-31, 0.0000000e+00, 0.0000000e+00, 1.2318790e-25,\n",
       "        1.0000000e+00, 6.8609669e-18, 0.0000000e+00],\n",
       "       [8.9324086e-22, 1.4818782e-23, 1.0000000e+00, 5.3800109e-10,\n",
       "        8.7323116e-23, 2.5818387e-22, 1.1744327e-12],\n",
       "       [5.7997462e-05, 1.0977056e-07, 1.6137815e-07, 2.4436258e-03,\n",
       "        9.9160528e-01, 5.8928323e-03, 1.6994683e-08],\n",
       "       [1.0000000e+00, 0.0000000e+00, 0.0000000e+00, 0.0000000e+00,\n",
       "        0.0000000e+00, 0.0000000e+00, 0.0000000e+00],\n",
       "       [5.7330742e-34, 6.8221218e-36, 1.0000000e+00, 9.2358928e-14,\n",
       "        5.3340722e-36, 2.3936757e-36, 3.4954543e-18],\n",
       "       [4.6295809e-16, 6.7794327e-25, 4.6233525e-23, 2.2573669e-27,\n",
       "        5.1679456e-11, 1.0000000e+00, 1.6192858e-11],\n",
       "       [2.8480512e-22, 8.1804265e-25, 3.0089012e-13, 1.0000000e+00,\n",
       "        1.6628554e-17, 3.6849912e-22, 1.1116788e-26],\n",
       "       [5.2763347e-21, 0.0000000e+00, 3.0575517e-23, 0.0000000e+00,\n",
       "        0.0000000e+00, 1.8909034e-37, 1.0000000e+00],\n",
       "       [1.6192694e-31, 0.0000000e+00, 0.0000000e+00, 4.8799882e-25,\n",
       "        1.0000000e+00, 1.6098382e-18, 0.0000000e+00],\n",
       "       [5.5891217e-21, 5.1661118e-30, 3.6300112e-27, 1.2579222e-12,\n",
       "        1.0000000e+00, 1.2697829e-11, 8.1154582e-27],\n",
       "       [0.0000000e+00, 1.0000000e+00, 0.0000000e+00, 0.0000000e+00,\n",
       "        0.0000000e+00, 0.0000000e+00, 0.0000000e+00]], dtype=float32)"
      ]
     },
     "execution_count": 15,
     "metadata": {},
     "output_type": "execute_result"
    }
   ],
   "source": [
    "yhat = model.predict(X_test)\n",
    "#yhat = [1 if prediction > 0.5 else 0 for prediction in yhat]\n",
    "yhat"
   ]
  },
  {
   "cell_type": "code",
   "execution_count": 16,
   "metadata": {},
   "outputs": [
    {
     "name": "stdout",
     "output_type": "stream",
     "text": [
      "375/375 [==============================] - 481s 1s/step - loss: 2.3413e-04 - recall: 1.0000 - precision: 1.0000\n",
      "Test loss: 0.0002341262297704816\n",
      "Test accuracy: 1.0\n"
     ]
    }
   ],
   "source": [
    "score = model.evaluate(test)\n",
    "print('Test loss:', score[0])\n",
    "print('Test accuracy:', score[1])"
   ]
  },
  {
   "cell_type": "code",
   "execution_count": 17,
   "metadata": {},
   "outputs": [],
   "source": [
    "model_json = model.to_json()\n",
    "with open(\"note.json\", \"w\") as json_file:\n",
    "    json_file.write(model_json)\n",
    "model.save_weights(\"note.h5\")"
   ]
  }
 ],
 "metadata": {
  "kernelspec": {
   "display_name": "project",
   "language": "python",
   "name": "python3"
  },
  "language_info": {
   "codemirror_mode": {
    "name": "ipython",
    "version": 3
   },
   "file_extension": ".py",
   "mimetype": "text/x-python",
   "name": "python",
   "nbconvert_exporter": "python",
   "pygments_lexer": "ipython3",
   "version": "3.9.15 (main, Nov 24 2022, 14:39:17) [MSC v.1916 64 bit (AMD64)]"
  },
  "orig_nbformat": 4,
  "vscode": {
   "interpreter": {
    "hash": "79a67186b754953f17d820f9a539417180439ff73895987e8089009131edb50d"
   }
  }
 },
 "nbformat": 4,
 "nbformat_minor": 2
}
