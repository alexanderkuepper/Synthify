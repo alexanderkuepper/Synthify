{
 "cells": [
  {
   "cell_type": "code",
   "execution_count": 39,
   "metadata": {},
   "outputs": [],
   "source": [
    "from sklearn.preprocessing import MultiLabelBinarizer\n",
    "import ast \n",
    "\n",
    "import os\n",
    "from matplotlib import pyplot as plt\n",
    "import tensorflow as tf \n",
    "import pandas as pd\n",
    "from pathlib import Path\n",
    "import tensorflow_io as tfio\n",
    "import ast\n",
    "from pathlib import Path\n",
    "\n",
    "from tensorflow.keras.models import Sequential\n",
    "from tensorflow.keras.layers import Conv2D, Dense, Flatten, MaxPool2D\n"
   ]
  },
  {
   "attachments": {},
   "cell_type": "markdown",
   "metadata": {},
   "source": [
    "**Build Data Loading Function**"
   ]
  },
  {
   "cell_type": "code",
   "execution_count": 40,
   "metadata": {},
   "outputs": [],
   "source": [
    "def load_wav_16k_mono(filename):\n",
    "    # Load encoded wav file\n",
    "    file_contents = tf.io.read_file(filename)\n",
    "    # Decode wav (tensors by channels) \n",
    "    wav, sample_rate = tf.audio.decode_wav(file_contents, desired_channels=1)\n",
    "    # Removes trailing axis\n",
    "    wav = tf.squeeze(wav, axis=-1)\n",
    "    sample_rate = tf.cast(sample_rate, dtype=tf.int64)\n",
    "    # Goes from 44100Hz to 16000hz - amplitude of the audio signal\n",
    "    wav = tfio.audio.resample(wav, rate_in=sample_rate, rate_out=16000)\n",
    "    return wav"
   ]
  },
  {
   "attachments": {},
   "cell_type": "markdown",
   "metadata": {},
   "source": [
    "**Create Tensorflow Dataset**"
   ]
  },
  {
   "cell_type": "code",
   "execution_count": 41,
   "metadata": {},
   "outputs": [
    {
     "data": {
      "text/plain": [
       "'..\\\\Generator_two\\\\audiodata'"
      ]
     },
     "execution_count": 41,
     "metadata": {},
     "output_type": "execute_result"
    }
   ],
   "source": [
    "SOUND = os.path.join('..', 'Generator', 'audiodata')\n",
    "SOUND"
   ]
  },
  {
   "cell_type": "code",
   "execution_count": 42,
   "metadata": {},
   "outputs": [],
   "source": [
    "import glob\n",
    "import re\n",
    "\n",
    "txtfiles = []\n",
    "for file in glob.glob(SOUND+\"\\*.wav\"):\n",
    "    txtfiles.append(file)\n",
    "txtfiles\n",
    "sound = sorted(txtfiles, key=lambda s: int(re.search(r'\\d+', s).group()))"
   ]
  },
  {
   "cell_type": "code",
   "execution_count": 43,
   "metadata": {},
   "outputs": [],
   "source": [
    "values = pd.read_csv('../Generator/audiodata/data.csv')['osc'].tolist()\n",
    "osc = list()\n",
    "for value in values:\n",
    "    if value == 'sine':\n",
    "        osc.append(tf.one_hot(0,4))\n",
    "    if value == 'square':\n",
    "        osc.append(tf.one_hot(1,4))\n",
    "    if value == 'sawtooth':\n",
    "        osc.append(tf.one_hot(2,4))\n",
    "    if value == 'triangle':\n",
    "        osc.append(tf.one_hot(3,4))\n",
    "\n",
    "\n",
    "data = tf.data.Dataset.zip((tf.data.Dataset.from_tensor_slices(sound), tf.data.Dataset.from_tensor_slices(osc)))"
   ]
  },
  {
   "attachments": {},
   "cell_type": "markdown",
   "metadata": {},
   "source": [
    "**Build Preprocessing Function to Convert to Spectrogram**"
   ]
  },
  {
   "cell_type": "code",
   "execution_count": 44,
   "metadata": {},
   "outputs": [],
   "source": [
    "def preprocess(file_path, label): \n",
    "    wav = load_wav_16k_mono(file_path)\n",
    "    wav = wav[:63901] \n",
    "    zero_padding = tf.zeros([63901] - tf.shape(wav), dtype=tf.float32)\n",
    "    wav = tf.concat([zero_padding, wav],0)\n",
    "    spectrogram = tf.signal.stft(wav, frame_length=320, frame_step=128)\n",
    "    spectrogram = tf.abs(spectrogram)\n",
    "    spectrogram = tf.expand_dims(spectrogram, axis=2)\n",
    "    \n",
    "    return spectrogram, label"
   ]
  },
  {
   "attachments": {},
   "cell_type": "markdown",
   "metadata": {},
   "source": [
    "**Create Training and Testing Partitions**"
   ]
  },
  {
   "cell_type": "code",
   "execution_count": 45,
   "metadata": {},
   "outputs": [
    {
     "name": "stdout",
     "output_type": "stream",
     "text": [
      "WARNING:tensorflow:Using a while_loop for converting IO>AudioResample\n"
     ]
    }
   ],
   "source": [
    "data = data.map(preprocess)\n",
    "data = data.cache()\n",
    "data = data.shuffle(buffer_size=1000)\n",
    "data = data.batch(16)\n",
    "data = data.prefetch(8)"
   ]
  },
  {
   "cell_type": "code",
   "execution_count": 46,
   "metadata": {},
   "outputs": [],
   "source": [
    "train = data.take(875)\n",
    "test = data.skip(875).take(375)"
   ]
  },
  {
   "attachments": {},
   "cell_type": "markdown",
   "metadata": {},
   "source": [
    "**Build Model**"
   ]
  },
  {
   "cell_type": "code",
   "execution_count": 47,
   "metadata": {},
   "outputs": [],
   "source": [
    "model = Sequential()\n",
    "model.add(Conv2D(32, (3,3), activation='relu', input_shape=(497, 257,1)))\n",
    "model.add(Conv2D(32, (3,3), activation='relu'))\n",
    "model.add(MaxPool2D())\n",
    "model.add(Conv2D(64, (3,3), activation='relu'))\n",
    "model.add(Conv2D(64, (3,3), activation='relu'))\n",
    "model.add(MaxPool2D())\n",
    "model.add(Conv2D(64, (3,3), activation='relu'))\n",
    "model.add(Conv2D(64, (3,3), activation='relu'))\n",
    "model.add(MaxPool2D())\n",
    "model.add(Flatten())\n",
    "model.add(Dense(128, activation='relu'))\n",
    "model.add(Dense(4, activation='softmax'))"
   ]
  },
  {
   "cell_type": "code",
   "execution_count": 48,
   "metadata": {},
   "outputs": [],
   "source": [
    "model.compile(optimizer=tf.keras.optimizers.Adam(learning_rate=1e-3), loss='categorical_crossentropy', metrics=[tf.keras.metrics.Recall(),tf.keras.metrics.Precision()])"
   ]
  },
  {
   "cell_type": "code",
   "execution_count": 49,
   "metadata": {},
   "outputs": [
    {
     "name": "stdout",
     "output_type": "stream",
     "text": [
      "Model: \"sequential_3\"\n",
      "_________________________________________________________________\n",
      " Layer (type)                Output Shape              Param #   \n",
      "=================================================================\n",
      " conv2d_18 (Conv2D)          (None, 495, 255, 32)      320       \n",
      "                                                                 \n",
      " conv2d_19 (Conv2D)          (None, 493, 253, 32)      9248      \n",
      "                                                                 \n",
      " max_pooling2d_9 (MaxPooling  (None, 246, 126, 32)     0         \n",
      " 2D)                                                             \n",
      "                                                                 \n",
      " conv2d_20 (Conv2D)          (None, 244, 124, 64)      18496     \n",
      "                                                                 \n",
      " conv2d_21 (Conv2D)          (None, 242, 122, 64)      36928     \n",
      "                                                                 \n",
      " max_pooling2d_10 (MaxPoolin  (None, 121, 61, 64)      0         \n",
      " g2D)                                                            \n",
      "                                                                 \n",
      " conv2d_22 (Conv2D)          (None, 119, 59, 64)       36928     \n",
      "                                                                 \n",
      " conv2d_23 (Conv2D)          (None, 117, 57, 64)       36928     \n",
      "                                                                 \n",
      " max_pooling2d_11 (MaxPoolin  (None, 58, 28, 64)       0         \n",
      " g2D)                                                            \n",
      "                                                                 \n",
      " flatten_3 (Flatten)         (None, 103936)            0         \n",
      "                                                                 \n",
      " dense_6 (Dense)             (None, 128)               13303936  \n",
      "                                                                 \n",
      " dense_7 (Dense)             (None, 4)                 516       \n",
      "                                                                 \n",
      "=================================================================\n",
      "Total params: 13,443,300\n",
      "Trainable params: 13,443,300\n",
      "Non-trainable params: 0\n",
      "_________________________________________________________________\n"
     ]
    }
   ],
   "source": [
    "model.summary() "
   ]
  },
  {
   "attachments": {},
   "cell_type": "markdown",
   "metadata": {},
   "source": [
    "**Train**"
   ]
  },
  {
   "cell_type": "code",
   "execution_count": 50,
   "metadata": {},
   "outputs": [
    {
     "name": "stdout",
     "output_type": "stream",
     "text": [
      "Epoch 1/3\n",
      "875/875 [==============================] - 3535s 4s/step - loss: 0.2646 - recall_3: 0.8592 - precision_3: 0.9190 - val_loss: 0.0610 - val_recall_3: 0.9717 - val_precision_3: 0.9722\n",
      "Epoch 2/3\n",
      "875/875 [==============================] - 4279s 5s/step - loss: 0.1087 - recall_3: 0.9631 - precision_3: 0.9651 - val_loss: 0.0245 - val_recall_3: 0.9908 - val_precision_3: 0.9915\n",
      "Epoch 3/3\n",
      "875/875 [==============================] - 4096s 5s/step - loss: 0.0356 - recall_3: 0.9856 - precision_3: 0.9863 - val_loss: 0.0039 - val_recall_3: 0.9993 - val_precision_3: 0.9997\n"
     ]
    }
   ],
   "source": [
    "hist = model.fit(train, epochs=3, validation_data=test)"
   ]
  },
  {
   "cell_type": "code",
   "execution_count": 51,
   "metadata": {},
   "outputs": [
    {
     "data": {
      "image/png": "[encoded data removed]",
      "text/plain": [
       "<Figure size 432x288 with 1 Axes>"
      ]
     },
     "metadata": {
      "needs_background": "light"
     },
     "output_type": "display_data"
    }
   ],
   "source": [
    "plt.title('Loss')\n",
    "plt.plot(hist.history['loss'], 'r')\n",
    "plt.plot(hist.history['val_loss'], 'b')\n",
    "plt.show()"
   ]
  },
  {
   "attachments": {},
   "cell_type": "markdown",
   "metadata": {},
   "source": [
    "**Test Model with a Single Clip**"
   ]
  },
  {
   "cell_type": "code",
   "execution_count": 52,
   "metadata": {},
   "outputs": [
    {
     "data": {
      "text/plain": [
       "array([[0., 0., 0., 1.],\n",
       "       [1., 0., 0., 0.],\n",
       "       [0., 0., 1., 0.],\n",
       "       [0., 0., 0., 1.],\n",
       "       [1., 0., 0., 0.],\n",
       "       [0., 1., 0., 0.],\n",
       "       [0., 1., 0., 0.],\n",
       "       [0., 0., 0., 1.],\n",
       "       [0., 1., 0., 0.],\n",
       "       [0., 1., 0., 0.],\n",
       "       [0., 0., 0., 1.],\n",
       "       [1., 0., 0., 0.],\n",
       "       [0., 0., 0., 1.],\n",
       "       [1., 0., 0., 0.],\n",
       "       [1., 0., 0., 0.],\n",
       "       [0., 0., 0., 1.]], dtype=float32)"
      ]
     },
     "execution_count": 52,
     "metadata": {},
     "output_type": "execute_result"
    }
   ],
   "source": [
    "X_test, y_test = test.as_numpy_iterator().next()\n",
    "y_test"
   ]
  },
  {
   "cell_type": "code",
   "execution_count": 53,
   "metadata": {},
   "outputs": [
    {
     "data": {
      "text/plain": [
       "array([[8.4457389e-12, 4.3918428e-04, 8.3311826e-16, 9.9956077e-01],\n",
       "       [1.0000000e+00, 4.5263789e-22, 1.7414943e-25, 1.3949982e-08],\n",
       "       [2.4940384e-28, 1.2164527e-13, 1.0000000e+00, 0.0000000e+00],\n",
       "       [6.1539336e-14, 2.3063762e-16, 0.0000000e+00, 1.0000000e+00],\n",
       "       [1.0000000e+00, 3.9169030e-26, 3.5122203e-30, 4.8328248e-09],\n",
       "       [1.3946753e-09, 9.9725890e-01, 2.7285961e-03, 1.2493972e-05],\n",
       "       [0.0000000e+00, 1.0000000e+00, 0.0000000e+00, 0.0000000e+00],\n",
       "       [1.9236450e-35, 5.2196001e-21, 0.0000000e+00, 1.0000000e+00],\n",
       "       [5.5751389e-26, 1.0000000e+00, 2.1133523e-08, 2.1643551e-13],\n",
       "       [2.2197894e-31, 1.0000000e+00, 1.0845084e-12, 3.5284309e-14],\n",
       "       [5.4382567e-30, 1.1206579e-27, 0.0000000e+00, 1.0000000e+00],\n",
       "       [1.0000000e+00, 1.7828097e-36, 0.0000000e+00, 2.2903825e-10],\n",
       "       [1.7845156e-11, 3.9808652e-03, 2.3880206e-13, 9.9601918e-01],\n",
       "       [1.0000000e+00, 0.0000000e+00, 0.0000000e+00, 5.6049013e-13],\n",
       "       [9.9999976e-01, 1.0448085e-24, 1.2351942e-28, 2.8660719e-07],\n",
       "       [0.0000000e+00, 1.8177940e-19, 0.0000000e+00, 1.0000000e+00]],\n",
       "      dtype=float32)"
      ]
     },
     "execution_count": 53,
     "metadata": {},
     "output_type": "execute_result"
    }
   ],
   "source": [
    "yhat = model.predict(X_test)\n",
    "#yhat = [1 if prediction > 0.5 else 0 for prediction in yhat]\n",
    "yhat"
   ]
  },
  {
   "cell_type": "code",
   "execution_count": 54,
   "metadata": {},
   "outputs": [
    {
     "name": "stdout",
     "output_type": "stream",
     "text": [
      "375/375 [==============================] - 497s 1s/step - loss: 0.0040 - recall_3: 0.9992 - precision_3: 0.9997\n",
      "Test loss: 0.0039763483218848705\n",
      "Test accuracy: 0.9991666674613953\n"
     ]
    }
   ],
   "source": [
    "score = model.evaluate(test)\n",
    "print('Test loss:', score[0])\n",
    "print('Test accuracy:', score[1])"
   ]
  },
  {
   "cell_type": "code",
   "execution_count": 55,
   "metadata": {},
   "outputs": [],
   "source": [
    "model_json = model.to_json()\n",
    "with open(\"osc.json\", \"w\") as json_file:\n",
    "    json_file.write(model_json)\n",
    "model.save_weights(\"osc.h5\")"
   ]
  }
 ],
 "metadata": {
  "kernelspec": {
   "display_name": "base",
   "language": "python",
   "name": "python3"
  },
  "language_info": {
   "codemirror_mode": {
    "name": "ipython",
    "version": 3
   },
   "file_extension": ".py",
   "mimetype": "text/x-python",
   "name": "python",
   "nbconvert_exporter": "python",
   "pygments_lexer": "ipython3",
   "version": "3.9.7"
  },
  "orig_nbformat": 4,
  "vscode": {
   "interpreter": {
    "hash": "9c1d87ea85a731d0848cf4e607dbb57360506d747d84c6cb1b30d4e34e6c1fb7"
   }
  }
 },
 "nbformat": 4,
 "nbformat_minor": 2
}
