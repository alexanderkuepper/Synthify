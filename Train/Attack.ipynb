{
 "cells": [
  {
   "cell_type": "code",
   "execution_count": 1,
   "metadata": {},
   "outputs": [],
   "source": [
    "import os\n",
    "from matplotlib import pyplot as plt\n",
    "import tensorflow as tf \n",
    "import pandas as pd\n",
    "from pathlib import Path\n",
    "import tensorflow_io as tfio\n",
    "import ast\n",
    "from pathlib import Path\n",
    "\n",
    "import numpy as np\n",
    "\n",
    "from tensorflow.keras.models import Sequential\n",
    "from tensorflow.keras.layers import Conv2D, Dense, Flatten, MaxPool2D\n",
    "\n",
    "from sklearn.model_selection import train_test_split"
   ]
  },
  {
   "attachments": {},
   "cell_type": "markdown",
   "metadata": {},
   "source": [
    "**Create Dataset**"
   ]
  },
  {
   "cell_type": "code",
   "execution_count": 2,
   "metadata": {},
   "outputs": [
    {
     "data": {
      "text/plain": [
       "'..\\\\Generator_two\\\\audiodata'"
      ]
     },
     "execution_count": 2,
     "metadata": {},
     "output_type": "execute_result"
    }
   ],
   "source": [
    "SOUND = os.path.join('..', 'Generator', 'audiodata')\n",
    "SOUND"
   ]
  },
  {
   "cell_type": "code",
   "execution_count": 3,
   "metadata": {},
   "outputs": [],
   "source": [
    "import re \n",
    "import glob\n",
    "\n",
    "txtfiles = []\n",
    "for file in glob.glob(SOUND+'\\*.wav'):\n",
    "    txtfiles.append(file)\n",
    "sound = sorted(txtfiles, key=lambda s: int(re.search(r'\\d+', s).group()))\n"
   ]
  },
  {
   "cell_type": "code",
   "execution_count": 4,
   "metadata": {},
   "outputs": [],
   "source": [
    "attack = pd.read_csv('../Generator/audiodata/data.csv')['attack'].tolist()\n",
    "\n",
    "data = list(zip(sound,attack))"
   ]
  },
  {
   "attachments": {},
   "cell_type": "markdown",
   "metadata": {},
   "source": [
    "**Build Preprocessing Function to Convert to RMS**"
   ]
  },
  {
   "cell_type": "code",
   "execution_count": 7,
   "metadata": {},
   "outputs": [],
   "source": [
    "import librosa\n",
    "\n",
    "def preprocess(file_path): \n",
    "    y, _ = librosa.load(file_path)\n",
    "    rms = librosa.feature.rms(y=y)[0]\n",
    "    \n",
    "    return rms"
   ]
  },
  {
   "attachments": {},
   "cell_type": "markdown",
   "metadata": {},
   "source": [
    "**Create Training and Testing Partitions**"
   ]
  },
  {
   "cell_type": "code",
   "execution_count": 76,
   "metadata": {},
   "outputs": [],
   "source": [
    "rms = list()\n",
    "lables = list()\n",
    "\n",
    "for file,lable in data:\n",
    "    rms.append(preprocess(file))\n",
    "    lables.append(lable)\n",
    "\n",
    "rms = np.array(rms)\n",
    "lables = np.array(lables)"
   ]
  },
  {
   "cell_type": "code",
   "execution_count": 93,
   "metadata": {},
   "outputs": [],
   "source": [
    "train_x, test_x, train_y, test_y = train_test_split(rms, lables, test_size=0.3, random_state=10000)"
   ]
  },
  {
   "attachments": {},
   "cell_type": "markdown",
   "metadata": {},
   "source": [
    "**Build Model**"
   ]
  },
  {
   "cell_type": "code",
   "execution_count": 87,
   "metadata": {},
   "outputs": [],
   "source": [
    "model = Sequential()\n",
    "model.add(Dense(128, input_shape=(173,)))\n",
    "model.add(Dense(128, activation='relu'))\n",
    "model.add(Dense(1, activation='linear'))"
   ]
  },
  {
   "cell_type": "code",
   "execution_count": 88,
   "metadata": {},
   "outputs": [],
   "source": [
    "model.compile(optimizer=tf.keras.optimizers.Adam(learning_rate=1e-4), loss='mse', metrics=[tf.keras.metrics.Recall(),tf.keras.metrics.Precision()])"
   ]
  },
  {
   "cell_type": "code",
   "execution_count": 89,
   "metadata": {},
   "outputs": [
    {
     "name": "stdout",
     "output_type": "stream",
     "text": [
      "Model: \"sequential_1\"\n",
      "_________________________________________________________________\n",
      " Layer (type)                Output Shape              Param #   \n",
      "=================================================================\n",
      " dense_3 (Dense)             (None, 128)               22272     \n",
      "                                                                 \n",
      " dense_4 (Dense)             (None, 128)               16512     \n",
      "                                                                 \n",
      " dense_5 (Dense)             (None, 1)                 129       \n",
      "                                                                 \n",
      "=================================================================\n",
      "Total params: 38,913\n",
      "Trainable params: 38,913\n",
      "Non-trainable params: 0\n",
      "_________________________________________________________________\n"
     ]
    }
   ],
   "source": [
    "model.summary() "
   ]
  },
  {
   "attachments": {},
   "cell_type": "markdown",
   "metadata": {},
   "source": [
    "**Train**"
   ]
  },
  {
   "cell_type": "code",
   "execution_count": 90,
   "metadata": {},
   "outputs": [
    {
     "name": "stdout",
     "output_type": "stream",
     "text": [
      "Epoch 1/12\n",
      "438/438 [==============================] - 2s 2ms/step - loss: 0.0303 - recall_1: 0.4539 - precision_1: 1.0000 - val_loss: 0.0116 - val_recall_1: 0.4691 - val_precision_1: 1.0000\n",
      "Epoch 2/12\n",
      "438/438 [==============================] - 1s 2ms/step - loss: 0.0074 - recall_1: 0.4885 - precision_1: 1.0000 - val_loss: 0.0058 - val_recall_1: 0.4651 - val_precision_1: 1.0000\n",
      "Epoch 3/12\n",
      "438/438 [==============================] - 1s 2ms/step - loss: 0.0044 - recall_1: 0.4950 - precision_1: 1.0000 - val_loss: 0.0040 - val_recall_1: 0.4748 - val_precision_1: 1.0000\n",
      "Epoch 4/12\n",
      "438/438 [==============================] - 1s 2ms/step - loss: 0.0033 - recall_1: 0.4950 - precision_1: 1.0000 - val_loss: 0.0028 - val_recall_1: 0.5048 - val_precision_1: 1.0000\n",
      "Epoch 5/12\n",
      "438/438 [==============================] - 1s 2ms/step - loss: 0.0027 - recall_1: 0.4972 - precision_1: 1.0000 - val_loss: 0.0024 - val_recall_1: 0.4972 - val_precision_1: 1.0000\n",
      "Epoch 6/12\n",
      "438/438 [==============================] - 1s 2ms/step - loss: 0.0024 - recall_1: 0.4955 - precision_1: 1.0000 - val_loss: 0.0022 - val_recall_1: 0.5003 - val_precision_1: 1.0000\n",
      "Epoch 7/12\n",
      "438/438 [==============================] - 1s 2ms/step - loss: 0.0021 - recall_1: 0.4955 - precision_1: 1.0000 - val_loss: 0.0019 - val_recall_1: 0.5052 - val_precision_1: 1.0000\n",
      "Epoch 8/12\n",
      "438/438 [==============================] - 1s 2ms/step - loss: 0.0020 - recall_1: 0.4961 - precision_1: 1.0000 - val_loss: 0.0017 - val_recall_1: 0.4975 - val_precision_1: 1.0000\n",
      "Epoch 9/12\n",
      "438/438 [==============================] - 1s 2ms/step - loss: 0.0018 - recall_1: 0.4967 - precision_1: 1.0000 - val_loss: 0.0016 - val_recall_1: 0.5020 - val_precision_1: 1.0000\n",
      "Epoch 10/12\n",
      "438/438 [==============================] - 1s 2ms/step - loss: 0.0017 - recall_1: 0.4965 - precision_1: 1.0000 - val_loss: 0.0025 - val_recall_1: 0.5250 - val_precision_1: 1.0000\n",
      "Epoch 11/12\n",
      "438/438 [==============================] - 1s 2ms/step - loss: 0.0016 - recall_1: 0.4969 - precision_1: 1.0000 - val_loss: 0.0015 - val_recall_1: 0.5167 - val_precision_1: 1.0000\n",
      "Epoch 12/12\n",
      "438/438 [==============================] - 1s 2ms/step - loss: 0.0015 - recall_1: 0.4950 - precision_1: 1.0000 - val_loss: 0.0014 - val_recall_1: 0.5077 - val_precision_1: 1.0000\n"
     ]
    }
   ],
   "source": [
    "hist = model.fit(train_x, train_y, epochs=12, validation_data=(test_x,test_y))"
   ]
  },
  {
   "cell_type": "code",
   "execution_count": 91,
   "metadata": {},
   "outputs": [
    {
     "data": {
      "image/png": "[encoded data removed]",
      "text/plain": [
       "<Figure size 640x480 with 1 Axes>"
      ]
     },
     "metadata": {},
     "output_type": "display_data"
    }
   ],
   "source": [
    "plt.title('Loss')\n",
    "plt.plot(hist.history['loss'], 'r')\n",
    "plt.plot(hist.history['val_loss'], 'b')\n",
    "plt.show()"
   ]
  },
  {
   "attachments": {},
   "cell_type": "markdown",
   "metadata": {},
   "source": [
    "**Test Model with a Single Clip**"
   ]
  },
  {
   "cell_type": "code",
   "execution_count": 83,
   "metadata": {},
   "outputs": [
    {
     "data": {
      "text/plain": [
       "array([0.666, 0.766, 0.367, ..., 0.603, 0.37 , 0.527])"
      ]
     },
     "execution_count": 83,
     "metadata": {},
     "output_type": "execute_result"
    }
   ],
   "source": [
    "\n",
    "test_y"
   ]
  },
  {
   "cell_type": "code",
   "execution_count": 84,
   "metadata": {},
   "outputs": [
    {
     "name": "stdout",
     "output_type": "stream",
     "text": [
      "188/188 [==============================] - 0s 823us/step\n"
     ]
    },
    {
     "data": {
      "text/plain": [
       "array([[0.61812645],\n",
       "       [0.76130164],\n",
       "       [0.42803788],\n",
       "       ...,\n",
       "       [0.5537836 ],\n",
       "       [0.35202911],\n",
       "       [0.5088155 ]], dtype=float32)"
      ]
     },
     "execution_count": 84,
     "metadata": {},
     "output_type": "execute_result"
    }
   ],
   "source": [
    "yhat = model.predict(test_x)\n",
    "yhat"
   ]
  },
  {
   "cell_type": "code",
   "execution_count": 85,
   "metadata": {},
   "outputs": [
    {
     "name": "stdout",
     "output_type": "stream",
     "text": [
      "188/188 [==============================] - 0s 1ms/step - loss: 0.0016 - recall: 0.4833 - precision: 1.0000\n",
      "Test loss: 0.0015856436220929027\n",
      "Test accuracy: 0.4833222031593323\n"
     ]
    }
   ],
   "source": [
    "score = model.evaluate(test_x,test_y)\n",
    "print('Test loss:', score[0])\n",
    "print('Test accuracy:', score[1])"
   ]
  },
  {
   "cell_type": "code",
   "execution_count": 86,
   "metadata": {},
   "outputs": [],
   "source": [
    "model_json = model.to_json()\n",
    "with open(\"attack.json\", \"w\") as json_file:\n",
    "    json_file.write(model_json)\n",
    "model.save_weights(\"attack.h5\")"
   ]
  }
 ],
 "metadata": {
  "kernelspec": {
   "display_name": "project",
   "language": "python",
   "name": "python3"
  },
  "language_info": {
   "codemirror_mode": {
    "name": "ipython",
    "version": 3
   },
   "file_extension": ".py",
   "mimetype": "text/x-python",
   "name": "python",
   "nbconvert_exporter": "python",
   "pygments_lexer": "ipython3",
   "version": "3.9.15"
  },
  "orig_nbformat": 4,
  "vscode": {
   "interpreter": {
    "hash": "79a67186b754953f17d820f9a539417180439ff73895987e8089009131edb50d"
   }
  }
 },
 "nbformat": 4,
 "nbformat_minor": 2
}
